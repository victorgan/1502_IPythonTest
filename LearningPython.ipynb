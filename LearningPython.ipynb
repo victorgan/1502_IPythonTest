{
 "metadata": {
  "name": "",
  "signature": "sha256:7661ba40859467fae934dae8ab644efb33f4ed9d3e49e067fef24c9774feeb2e"
 },
 "nbformat": 3,
 "nbformat_minor": 0,
 "worksheets": [
  {
   "cells": [
    {
     "cell_type": "markdown",
     "metadata": {},
     "source": [
      "In Python2, not mentioning the object parameter makes it a classic class. In Python3 all classes are new-style classes, so this is no longer necessary."
     ]
    },
    {
     "cell_type": "code",
     "collapsed": false,
     "input": [
      "class Classic: pass\n",
      "class NewStyle(object): pass\n",
      "\n",
      "print('Classic:')\n",
      "print(dir(Classic))\n",
      "\n",
      "print('NewStyle:')\n",
      "print(dir(NewStyle))"
     ],
     "language": "python",
     "metadata": {},
     "outputs": [
      {
       "output_type": "stream",
       "stream": "stdout",
       "text": [
        "Classic:\n",
        "['__doc__', '__module__']\n",
        "NewStyle:\n",
        "['__class__', '__delattr__', '__dict__', '__doc__', '__format__', '__getattribute__', '__hash__', '__init__', '__module__', '__new__', '__reduce__', '__reduce_ex__', '__repr__', '__setattr__', '__sizeof__', '__str__', '__subclasshook__', '__weakref__']\n"
       ]
      }
     ],
     "prompt_number": 7
    }
   ],
   "metadata": {}
  }
 ]
}