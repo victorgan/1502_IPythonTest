{
 "metadata": {
  "name": "",
  "signature": "sha256:4f084d379f0e232199a4db98ea1bd37c0a96b284deac539a85953a39e98d334c"
 },
 "nbformat": 3,
 "nbformat_minor": 0,
 "worksheets": [
  {
   "cells": [
    {
     "cell_type": "heading",
     "level": 3,
     "metadata": {},
     "source": [
      "Binary Tree"
     ]
    },
    {
     "cell_type": "code",
     "collapsed": false,
     "input": [
      "class BinaryTreeNode:\n",
      "    def __init__(self, value, left = None, right = None):\n",
      "        self.value = value\n",
      "        self.left  = left\n",
      "        self.right = right"
     ],
     "language": "python",
     "metadata": {},
     "outputs": [],
     "prompt_number": 56
    },
    {
     "cell_type": "heading",
     "level": 2,
     "metadata": {},
     "source": [
      "Tree with arbitrary number of Children"
     ]
    },
    {
     "cell_type": "code",
     "collapsed": false,
     "input": [
      "class TreeNode(object):\n",
      "    def __init__(self, value, children = []):\n",
      "        self.value    = value\n",
      "        self.children = children\n",
      "\n",
      "    # print out tree\n",
      "    def __repr__(self, level=0):\n",
      "        output = \"\\t\" * level + repr(self.value) + \"\\n\"\n",
      "        for child in self.children:\n",
      "            output += child.__repr__(level+1)\n",
      "        return output"
     ],
     "language": "python",
     "metadata": {},
     "outputs": [],
     "prompt_number": 57
    },
    {
     "cell_type": "heading",
     "level": 3,
     "metadata": {},
     "source": [
      "Initializing a Tree"
     ]
    },
    {
     "cell_type": "code",
     "collapsed": false,
     "input": [
      "tree = TreeNode(\"grandmother\", \n",
      "            [\n",
      "            TreeNode(\"daughter\", \n",
      "                [\n",
      "                TreeNode(\"granddaughter\"),\n",
      "                TreeNode(\"grandson\")\n",
      "                ]),\n",
      "            TreeNode(\"son\", \n",
      "                [\n",
      "                TreeNode(\"granddaughter\"),\n",
      "                TreeNode(\"grandson\")\n",
      "                ])\n",
      "            ]);"
     ],
     "language": "python",
     "metadata": {},
     "outputs": [],
     "prompt_number": 58
    },
    {
     "cell_type": "code",
     "collapsed": false,
     "input": [
      "print tree\n",
      "repr(tree)"
     ],
     "language": "python",
     "metadata": {},
     "outputs": [
      {
       "output_type": "stream",
       "stream": "stdout",
       "text": [
        "'grandmother'\n",
        "\t'daughter'\n",
        "\t\t'granddaughter'\n",
        "\t\t'grandson'\n",
        "\t'son'\n",
        "\t\t'granddaughter'\n",
        "\t\t'grandson'\n",
        "\n"
       ]
      },
      {
       "metadata": {},
       "output_type": "pyout",
       "prompt_number": 59,
       "text": [
        "\"'grandmother'\\n\\t'daughter'\\n\\t\\t'granddaughter'\\n\\t\\t'grandson'\\n\\t'son'\\n\\t\\t'granddaughter'\\n\\t\\t'grandson'\\n\""
       ]
      }
     ],
     "prompt_number": 59
    },
    {
     "cell_type": "heading",
     "level": 2,
     "metadata": {},
     "source": [
      "KD-Tree (2D)"
     ]
    },
    {
     "cell_type": "code",
     "collapsed": false,
     "input": [
      "import numpy as np\n",
      "def buildKdTree(points, depth):\n",
      "    if len(points) == 1:\n",
      "        return TreeNode(points[0])\n",
      "    \n",
      "    xMed,yMed = np.median(points, axis=0)\n",
      "    if depth % 2 == 0:\n",
      "        line = xMed\n",
      "    else: # depth is odd\n",
      "        line = yMed\n",
      "    node = TreeNode(line, [leftNode, rightNode])\n",
      "    return node"
     ],
     "language": "python",
     "metadata": {},
     "outputs": [],
     "prompt_number": 65
    },
    {
     "cell_type": "code",
     "collapsed": false,
     "input": [
      "buildKdTree([(1,1),(2,2),(3,3)],1)\n",
      "buildKdTree([(1,1)],1)"
     ],
     "language": "python",
     "metadata": {},
     "outputs": [
      {
       "metadata": {},
       "output_type": "pyout",
       "prompt_number": 61,
       "text": [
        "(1, 1)"
       ]
      }
     ],
     "prompt_number": 61
    },
    {
     "cell_type": "code",
     "collapsed": false,
     "input": [
      "import numpy\n",
      "x,y = numpy.median([(1,3),(9,5),(4,7)], axis=0) # medians of all axes\n",
      "x,y"
     ],
     "language": "python",
     "metadata": {},
     "outputs": [
      {
       "metadata": {},
       "output_type": "pyout",
       "prompt_number": 62,
       "text": [
        "(4.0, 5.0)"
       ]
      }
     ],
     "prompt_number": 62
    }
   ],
   "metadata": {}
  }
 ]
}