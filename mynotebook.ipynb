{
 "metadata": {
  "name": "",
  "signature": "sha256:5b9b09e2a1f5605d736db2e5b6229228ca82284ca318c73e7d2761be97df0da6"
 },
 "nbformat": 3,
 "nbformat_minor": 0,
 "worksheets": [
  {
   "cells": [
    {
     "cell_type": "code",
     "collapsed": false,
     "input": [],
     "language": "python",
     "metadata": {},
     "outputs": []
    }
   ],
   "metadata": {}
  }
 ]
}